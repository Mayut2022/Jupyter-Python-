{
 "cells": [
  {
   "cell_type": "code",
   "execution_count": 1,
   "id": "ba73f48f",
   "metadata": {
    "ExecuteTime": {
     "end_time": "2022-06-06T13:32:07.384340Z",
     "start_time": "2022-06-06T13:32:07.339306Z"
    }
   },
   "outputs": [],
   "source": [
    "import netCDF4 as nc\n",
    "import cftime"
   ]
  },
  {
   "cell_type": "code",
   "execution_count": 3,
   "id": "2510d67b",
   "metadata": {
    "ExecuteTime": {
     "end_time": "2022-06-06T13:32:36.637992Z",
     "start_time": "2022-06-06T13:32:36.619053Z"
    }
   },
   "outputs": [],
   "source": [
    "inpath = r'D:\\Gosif_CHN\\CHN\\sif_CHN_2001.nc'\n",
    "f = nc.Dataset(inpath, mode='r')"
   ]
  },
  {
   "cell_type": "markdown",
   "id": "8f0bcd55",
   "metadata": {},
   "source": [
    "### 查看nc文件变量"
   ]
  },
  {
   "cell_type": "code",
   "execution_count": 4,
   "id": "3d7cd155",
   "metadata": {
    "ExecuteTime": {
     "end_time": "2022-06-06T13:32:39.018924Z",
     "start_time": "2022-06-06T13:32:39.007333Z"
    }
   },
   "outputs": [
    {
     "name": "stdout",
     "output_type": "stream",
     "text": [
      "dict_keys(['sif', 'lat', 'lon'])\n"
     ]
    }
   ],
   "source": [
    "print(f.variables.keys())"
   ]
  },
  {
   "cell_type": "markdown",
   "id": "2eb99d74",
   "metadata": {},
   "source": [
    "### 查看每个变量的信息"
   ]
  },
  {
   "cell_type": "code",
   "execution_count": 5,
   "id": "9a39b3e2",
   "metadata": {
    "ExecuteTime": {
     "end_time": "2022-06-06T13:32:43.235278Z",
     "start_time": "2022-06-06T13:32:43.229344Z"
    }
   },
   "outputs": [
    {
     "name": "stdout",
     "output_type": "stream",
     "text": [
      "<class 'netCDF4._netCDF4.Variable'>\n",
      "float32 lat(lat)\n",
      "unlimited dimensions: \n",
      "current shape = (800,)\n",
      "filling on, default _FillValue of 9.969209968386869e+36 used\n",
      "<class 'netCDF4._netCDF4.Variable'>\n",
      "float32 lon(lon)\n",
      "unlimited dimensions: \n",
      "current shape = (1400,)\n",
      "filling on, default _FillValue of 9.969209968386869e+36 used\n",
      "<class 'netCDF4._netCDF4.Variable'>\n",
      "float32 sif(doys, lat, lon)\n",
      "    sif: China range SIF 2001\n",
      "    lat_range: [55,15], 800, 精度：0.05, 边界：[54.975, 15.025]\n",
      "    lon_range: [70,140], 1400, 精度：0.05, 边界：[70.05, 140.00]\n",
      "    data: scale factor和缺测值均未处理\n",
      "    Fillvalues: 32767 (water bodies) and 32766 (lands under snow/ice throughout the year)\n",
      "    veg_nonveg: annual mean <0 & 32767/32766\n",
      "unlimited dimensions: \n",
      "current shape = (46, 800, 1400)\n",
      "filling on, default _FillValue of 9.969209968386869e+36 used\n"
     ]
    }
   ],
   "source": [
    "print(f.variables['lat'])\n",
    "print(f.variables['lon'])\n",
    "print(f.variables['sif'])"
   ]
  },
  {
   "cell_type": "markdown",
   "id": "9ccacf86",
   "metadata": {},
   "source": [
    "### 读取变量值"
   ]
  },
  {
   "cell_type": "code",
   "execution_count": 10,
   "id": "61dabdb7",
   "metadata": {
    "ExecuteTime": {
     "end_time": "2022-06-06T13:34:12.216921Z",
     "start_time": "2022-06-06T13:34:12.111874Z"
    }
   },
   "outputs": [],
   "source": [
    "lat = (f.variables['lat'][:])\n",
    "lon = (f.variables['lon'][:])\n",
    "sif = (f.variables['sif'][:])"
   ]
  },
  {
   "cell_type": "code",
   "execution_count": 11,
   "id": "af2b4273",
   "metadata": {
    "ExecuteTime": {
     "end_time": "2022-06-06T13:34:17.553108Z",
     "start_time": "2022-06-06T13:34:17.543138Z"
    }
   },
   "outputs": [
    {
     "data": {
      "text/plain": [
       "140.0"
      ]
     },
     "execution_count": 11,
     "metadata": {},
     "output_type": "execute_result"
    }
   ],
   "source": [
    "lat[-1]\n",
    "lon[-1]"
   ]
  },
  {
   "cell_type": "markdown",
   "id": "9413ffb4",
   "metadata": {},
   "source": [
    " ### 时间\n",
    "1. 时间转换数字为time（‘unit’）\n",
    "2. 索引须import cftime，格式为numpy须转换为list"
   ]
  },
  {
   "cell_type": "code",
   "execution_count": 6,
   "id": "6d4dd1c7",
   "metadata": {},
   "outputs": [
    {
     "name": "stdout",
     "output_type": "stream",
     "text": [
      "120\n"
     ]
    }
   ],
   "source": [
    "time = (f.variables['time'][:])\n",
    "t = nc.num2date(f.variables['time'][:],\n",
    "                'hours since 1800-01-01 00:00:0.0').data\n",
    "\n",
    "t = t.tolist()\n",
    "print(t.index(cftime.DatetimeGregorian(1961, 5, 1, 0, 0, 0, 0)))"
   ]
  },
  {
   "cell_type": "markdown",
   "id": "c3b74c4e",
   "metadata": {},
   "source": [
    "### 读取文件完毕记得关闭文件提高运行速度"
   ]
  },
  {
   "cell_type": "code",
   "execution_count": 7,
   "id": "ae4579df",
   "metadata": {},
   "outputs": [],
   "source": [
    "f.close()"
   ]
  },
  {
   "cell_type": "code",
   "execution_count": null,
   "id": "0d43aef2",
   "metadata": {},
   "outputs": [],
   "source": [
    "import netCDF4 as nc\n",
    "\n",
    "f=nc.Dataset(r'   ',mode='r')\n",
    "print(f.variables.keys())\n",
    "print(f.variables[' '])\n",
    " =(f.variables[' '][:])\n",
    "f.close()"
   ]
  }
 ],
 "metadata": {
  "kernelspec": {
   "display_name": "env-py310",
   "language": "python",
   "name": "python3"
  },
  "language_info": {
   "codemirror_mode": {
    "name": "ipython",
    "version": 3
   },
   "file_extension": ".py",
   "mimetype": "text/x-python",
   "name": "python",
   "nbconvert_exporter": "python",
   "pygments_lexer": "ipython3",
   "version": "3.10.6"
  },
  "toc": {
   "base_numbering": 1,
   "nav_menu": {},
   "number_sections": true,
   "sideBar": true,
   "skip_h1_title": false,
   "title_cell": "Table of Contents",
   "title_sidebar": "Contents",
   "toc_cell": false,
   "toc_position": {},
   "toc_section_display": true,
   "toc_window_display": false
  },
  "varInspector": {
   "cols": {
    "lenName": 16,
    "lenType": 16,
    "lenVar": 40
   },
   "kernels_config": {
    "python": {
     "delete_cmd_postfix": "",
     "delete_cmd_prefix": "del ",
     "library": "var_list.py",
     "varRefreshCmd": "print(var_dic_list())"
    },
    "r": {
     "delete_cmd_postfix": ") ",
     "delete_cmd_prefix": "rm(",
     "library": "var_list.r",
     "varRefreshCmd": "cat(var_dic_list()) "
    }
   },
   "oldHeight": 281.844,
   "position": {
    "height": "179px",
    "left": "706.667px",
    "right": "20px",
    "top": "124px",
    "width": "489px"
   },
   "types_to_exclude": [
    "module",
    "function",
    "builtin_function_or_method",
    "instance",
    "_Feature"
   ],
   "varInspector_section_display": "none",
   "window_display": true
  },
  "vscode": {
   "interpreter": {
    "hash": "c45877ca8879bd6de1f8ecfa1b07a6092539ffb29764f4d7259821dd181faedb"
   }
  }
 },
 "nbformat": 4,
 "nbformat_minor": 5
}
