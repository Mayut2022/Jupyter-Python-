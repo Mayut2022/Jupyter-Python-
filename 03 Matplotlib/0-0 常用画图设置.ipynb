{
 "cells": [
  {
   "cell_type": "markdown",
   "id": "be7e3f3f",
   "metadata": {},
   "source": [
    "# 绘制水平线和垂直线\n",
    "[matplotlib官网](https://matplotlib.org/stable/api/_as_gen/matplotlib.axes.Axes.axhline.html#matplotlib.axes.Axes.axhline)"
   ]
  },
  {
   "cell_type": "code",
   "execution_count": 1,
   "id": "6d5d2922",
   "metadata": {
    "ExecuteTime": {
     "end_time": "2023-03-22T07:59:31.781304Z",
     "start_time": "2023-03-22T07:59:31.768247Z"
    },
    "collapsed": true
   },
   "outputs": [
    {
     "ename": "SyntaxError",
     "evalue": "invalid syntax (320706748.py, line 2)",
     "output_type": "error",
     "traceback": [
      "\u001b[1;36m  Input \u001b[1;32mIn [1]\u001b[1;36m\u001b[0m\n\u001b[1;33m    xmin xmax是x坐标轴比例\u001b[0m\n\u001b[1;37m         ^\u001b[0m\n\u001b[1;31mSyntaxError\u001b[0m\u001b[1;31m:\u001b[0m invalid syntax\n"
     ]
    }
   ],
   "source": [
    "Axes.axhline(y=0, xmin=0, xmax=1, **kwargs)\n",
    "xmin xmax是x坐标轴比例"
   ]
  },
  {
   "cell_type": "markdown",
   "id": "b0b288e2",
   "metadata": {},
   "source": [
    "# 时间坐标轴设置\n",
    "> 方法一只有在坐标轴为时间轴时，即画图的x坐标为时间轴时管用，ax.set_xticklabels不管用；适用于画连续时间坐标轴；  \n",
    "\n",
    "> 方法二 先用随意坐标轴画x轴，再改xlabels"
   ]
  },
  {
   "cell_type": "code",
   "execution_count": null,
   "id": "cfa744da",
   "metadata": {},
   "outputs": [],
   "source": [
    "import matplotlib.dates as mdate\n",
    "\n",
    "ax.xaxis.set_major_formatter(mdate.DateFormatter('%y-%m'))"
   ]
  },
  {
   "cell_type": "code",
   "execution_count": null,
   "id": "183ed3e7",
   "metadata": {},
   "outputs": [],
   "source": [
    "def t_xaxis():\n",
    "    year = np.arange(1982, 2021)\n",
    "    for i, yr in enumerate(year):\n",
    "        t = pd.date_range(f'{yr}/05', periods=5, freq=\"MS\")\n",
    "        tt = []\n",
    "        for j, x in enumerate(t):\n",
    "            tt.append(x.strftime(\"%Y-%m\"))\n",
    "        if i==0:\n",
    "            tt_all = tt\n",
    "        else:\n",
    "            tt_all = tt_all+tt\n",
    "\n",
    "    return tt_all\n",
    "\n",
    "# %%\n",
    "\n",
    "\n",
    "def plot(data1, data2, title):\n",
    "#     fig = plt.figure(1, figsize=(16, 4), dpi=500)\n",
    "\n",
    "#     fig.subplots_adjust(left=0.05, bottom=0.1, right=0.95,\n",
    "#                         top=0.9, wspace=None, hspace=0.12)\n",
    "    \n",
    "    t_date = t_xaxis()\n",
    "    t = np.arange(195)\n",
    "#     ax = fig.subplots(1)\n",
    "#     ax.axhline(y=0, c=\"k\", linestyle=\"--\")\n",
    "\n",
    "#     # \"#ffb432\"Grass;  \"#285000\" Forest\n",
    "#     ax.scatter(t[:], data1, c='#ffb432', s=10)\n",
    "#     ax.plot(t[:], data1, c='#ffb432', label=\"Grassland\", linewidth=1)\n",
    "#     ax.scatter(t[:], data2, c='#285000', s=10)\n",
    "#     ax.plot(t[:], data2, c='#285000', label=\"Forest\", linewidth=1)\n",
    "#     ax.tick_params(labelsize=15)\n",
    "#     ax.set_ylabel(\"Sensitivity Rmax\", fontsize=15)\n",
    "#     ax.set_ylim(-0.7, 0.7)\n",
    "#     ax.set_yticks(np.arange(-0.6, 0.61, 0.2))\n",
    "    ax.set_xticks(t[::50])\n",
    "    ax.set_xticklabels(t_date[::50], rotation=60)\n",
    "    # ax.xaxis.set_major_formatter(mdate.DateFormatter('%y-%m'))\n",
    "\n",
    "#     plt.legend(loc='lower right', fontsize=15)\n",
    "#     plt.xlabel(\"years\", fontsize=15)\n",
    "#     plt.suptitle(f'{title}', fontsize=20)\n",
    "#     plt.savefig(rf'E:/LAI4g/JPG_MG/Rmax(Scale)/{title}.jpg',\n",
    "#                 bbox_inches='tight')\n",
    "#     plt.show()"
   ]
  }
 ],
 "metadata": {
  "kernelspec": {
   "display_name": "Python 3 (ipykernel)",
   "language": "python",
   "name": "python3"
  },
  "language_info": {
   "codemirror_mode": {
    "name": "ipython",
    "version": 3
   },
   "file_extension": ".py",
   "mimetype": "text/x-python",
   "name": "python",
   "nbconvert_exporter": "python",
   "pygments_lexer": "ipython3",
   "version": "3.9.12"
  },
  "toc": {
   "base_numbering": 1,
   "nav_menu": {},
   "number_sections": true,
   "sideBar": true,
   "skip_h1_title": false,
   "title_cell": "Table of Contents",
   "title_sidebar": "Contents",
   "toc_cell": false,
   "toc_position": {},
   "toc_section_display": true,
   "toc_window_display": false
  },
  "varInspector": {
   "cols": {
    "lenName": 16,
    "lenType": 16,
    "lenVar": 40
   },
   "kernels_config": {
    "python": {
     "delete_cmd_postfix": "",
     "delete_cmd_prefix": "del ",
     "library": "var_list.py",
     "varRefreshCmd": "print(var_dic_list())"
    },
    "r": {
     "delete_cmd_postfix": ") ",
     "delete_cmd_prefix": "rm(",
     "library": "var_list.r",
     "varRefreshCmd": "cat(var_dic_list()) "
    }
   },
   "types_to_exclude": [
    "module",
    "function",
    "builtin_function_or_method",
    "instance",
    "_Feature"
   ],
   "window_display": false
  }
 },
 "nbformat": 4,
 "nbformat_minor": 5
}
