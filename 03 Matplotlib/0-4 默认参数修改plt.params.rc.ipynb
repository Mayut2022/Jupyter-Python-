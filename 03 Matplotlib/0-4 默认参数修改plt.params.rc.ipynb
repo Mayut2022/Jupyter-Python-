{
 "cells": [
  {
   "cell_type": "code",
   "execution_count": 1,
   "id": "775fa66c",
   "metadata": {
    "ExecuteTime": {
     "end_time": "2023-02-20T03:36:41.629176Z",
     "start_time": "2023-02-20T03:36:41.178409Z"
    }
   },
   "outputs": [],
   "source": [
    "import matplotlib.pyplot as plt"
   ]
  },
  {
   "cell_type": "markdown",
   "id": "5c3851f5",
   "metadata": {},
   "source": [
    "# plt默认修改全局变量"
   ]
  },
  {
   "cell_type": "code",
   "execution_count": null,
   "id": "541282b6",
   "metadata": {},
   "outputs": [],
   "source": []
  },
  {
   "cell_type": "code",
   "execution_count": null,
   "id": "f633870f",
   "metadata": {},
   "outputs": [],
   "source": []
  },
  {
   "cell_type": "markdown",
   "id": "1c8d08c0",
   "metadata": {},
   "source": [
    "# 常用修改全局变量\n",
    "## 修改默认字体"
   ]
  },
  {
   "cell_type": "code",
   "execution_count": 2,
   "id": "3166caf3",
   "metadata": {
    "ExecuteTime": {
     "end_time": "2023-02-20T03:36:42.284838Z",
     "start_time": "2023-02-20T03:36:42.270755Z"
    }
   },
   "outputs": [],
   "source": [
    "plt.rcParams['font.sans-serif'] = ['times new roman']  # 指定默认字体"
   ]
  },
  {
   "cell_type": "code",
   "execution_count": null,
   "id": "1185bdd0",
   "metadata": {},
   "outputs": [],
   "source": []
  }
 ],
 "metadata": {
  "kernelspec": {
   "display_name": "Python 3 (ipykernel)",
   "language": "python",
   "name": "python3"
  },
  "language_info": {
   "codemirror_mode": {
    "name": "ipython",
    "version": 3
   },
   "file_extension": ".py",
   "mimetype": "text/x-python",
   "name": "python",
   "nbconvert_exporter": "python",
   "pygments_lexer": "ipython3",
   "version": "3.9.12"
  },
  "toc": {
   "base_numbering": 1,
   "nav_menu": {},
   "number_sections": true,
   "sideBar": true,
   "skip_h1_title": false,
   "title_cell": "Table of Contents",
   "title_sidebar": "Contents",
   "toc_cell": false,
   "toc_position": {},
   "toc_section_display": true,
   "toc_window_display": false
  },
  "varInspector": {
   "cols": {
    "lenName": 16,
    "lenType": 16,
    "lenVar": 40
   },
   "kernels_config": {
    "python": {
     "delete_cmd_postfix": "",
     "delete_cmd_prefix": "del ",
     "library": "var_list.py",
     "varRefreshCmd": "print(var_dic_list())"
    },
    "r": {
     "delete_cmd_postfix": ") ",
     "delete_cmd_prefix": "rm(",
     "library": "var_list.r",
     "varRefreshCmd": "cat(var_dic_list()) "
    }
   },
   "types_to_exclude": [
    "module",
    "function",
    "builtin_function_or_method",
    "instance",
    "_Feature"
   ],
   "window_display": false
  }
 },
 "nbformat": 4,
 "nbformat_minor": 5
}
