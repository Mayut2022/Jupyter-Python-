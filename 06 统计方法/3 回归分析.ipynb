{
 "cells": [
  {
   "cell_type": "markdown",
   "id": "a124ef00",
   "metadata": {},
   "source": [
    "# 回归分析\n",
    "## 一元线性回归\n",
    "> from scipy.stats import linregress [摸鱼的相关分析和回归分析](https://www.heywhale.com/mw/project/61162916fe727700176cac60)\n",
    "\n",
    "> 相关分析与回归分析都是统计上研究变量之间关系的常用方法。用来判断两组变量之间的统计相关性。相关分析中两组变量的地位是平等的，而回归分析两个变量位置一般不能互换(自变量和因变量)。\n",
    "\n",
    "> linregress函数返回5个值，分别为回归斜率，回归截距，相关系数，p-value，估计斜率的标准误差。"
   ]
  },
  {
   "cell_type": "code",
   "execution_count": 1,
   "id": "0e3acd74",
   "metadata": {},
   "outputs": [],
   "source": [
    "import netCDF4 as nc\n",
    "import numpy as np\n",
    "import matplotlib.pyplot as plt\n",
    "import xarray as xr\n",
    "\n",
    "from scipy.stats import linregress"
   ]
  },
  {
   "cell_type": "code",
   "execution_count": 2,
   "id": "30aa7476",
   "metadata": {},
   "outputs": [],
   "source": [
    "def read_data_nc1(yr):\n",
    "    global lat, lon\n",
    "    inpath=(\"D:/study/Gosif_Data_0.5/phenology/EuroAsia_dbl_derive2rd_%d.nc\"%yr)\n",
    "    with nc.Dataset(inpath, mode='r') as f:\n",
    "        #print(f.variables.keys())\n",
    "        SOP=(f.variables['SOP'][:])\n",
    "        lat=(f.variables['lat'][:])\n",
    "        lon=(f.variables['lon'][:])\n",
    "        #print(f.variables['sif'])\n",
    "        SOP[SOP==-9999]=np.nan\n",
    "    return SOP"
   ]
  },
  {
   "cell_type": "code",
   "execution_count": 4,
   "id": "6414b014",
   "metadata": {},
   "outputs": [],
   "source": [
    "#%%读取数据\n",
    "for yr in range(2001, 2021):\n",
    "        sop=read_data_nc1(yr)\n",
    "        sop=sop.reshape(1, 120, 240)\n",
    "        if yr == 2001:\n",
    "            sop_all= sop\n",
    "        else:\n",
    "            sop_all= np.vstack((sop_all, sop))\n",
    "\n",
    "\n",
    "#%%\n",
    "t=np.arange(1, 21, 1)\n",
    "yr=np.arange(2001, 2021, 1)\n",
    "s,r,p = np.zeros((120, 240)),np.zeros((120, 240)),np.zeros((120, 240))\n",
    "\n",
    "for i in range(len(lat)):\n",
    "    for j in range(len(lon)):\n",
    "        s[i,j],_,r[i,j], p[i,j],_  = linregress(t, sop_all[:,i,j])"
   ]
  },
  {
   "cell_type": "code",
   "execution_count": null,
   "id": "8d9f0051",
   "metadata": {},
   "outputs": [],
   "source": []
  }
 ],
 "metadata": {
  "kernelspec": {
   "display_name": "Python 3 (ipykernel)",
   "language": "python",
   "name": "python3"
  },
  "language_info": {
   "codemirror_mode": {
    "name": "ipython",
    "version": 3
   },
   "file_extension": ".py",
   "mimetype": "text/x-python",
   "name": "python",
   "nbconvert_exporter": "python",
   "pygments_lexer": "ipython3",
   "version": "3.9.12"
  },
  "toc": {
   "base_numbering": 1,
   "nav_menu": {},
   "number_sections": true,
   "sideBar": true,
   "skip_h1_title": false,
   "title_cell": "Table of Contents",
   "title_sidebar": "Contents",
   "toc_cell": false,
   "toc_position": {},
   "toc_section_display": true,
   "toc_window_display": false
  },
  "varInspector": {
   "cols": {
    "lenName": 16,
    "lenType": 16,
    "lenVar": 40
   },
   "kernels_config": {
    "python": {
     "delete_cmd_postfix": "",
     "delete_cmd_prefix": "del ",
     "library": "var_list.py",
     "varRefreshCmd": "print(var_dic_list())"
    },
    "r": {
     "delete_cmd_postfix": ") ",
     "delete_cmd_prefix": "rm(",
     "library": "var_list.r",
     "varRefreshCmd": "cat(var_dic_list()) "
    }
   },
   "types_to_exclude": [
    "module",
    "function",
    "builtin_function_or_method",
    "instance",
    "_Feature"
   ],
   "window_display": false
  }
 },
 "nbformat": 4,
 "nbformat_minor": 5
}
